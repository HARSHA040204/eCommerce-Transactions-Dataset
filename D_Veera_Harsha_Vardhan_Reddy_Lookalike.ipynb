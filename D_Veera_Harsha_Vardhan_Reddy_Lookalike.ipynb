{
  "nbformat": 4,
  "nbformat_minor": 0,
  "metadata": {
    "colab": {
      "provenance": []
    },
    "kernelspec": {
      "name": "python3",
      "display_name": "Python 3"
    },
    "language_info": {
      "name": "python"
    }
  },
  "cells": [
    {
      "cell_type": "code",
      "execution_count": 12,
      "metadata": {
        "colab": {
          "base_uri": "https://localhost:8080/"
        },
        "id": "utnvTrfqXi6_",
        "outputId": "6771f5b8-2522-4ac8-d178-ec3cf9deb9b6"
      },
      "outputs": [
        {
          "output_type": "stream",
          "name": "stdout",
          "text": [
            "  CustomerID                                         Lookalikes\n",
            "0      C0001                  [C0137:0.0, C0119:0.0, C0088:0.0]\n",
            "1      C0002  [C0029:0.00018354971379253016, C0199:0.0005116...\n",
            "2      C0003  [C0095:1.7032049602905275e-06, C0150:1.2180692...\n",
            "3      C0004  [C0067:9.965377501530703e-06, C0021:0.00013233...\n",
            "4      C0005  [C0130:4.444249014690094e-06, C0144:1.26062190...\n"
          ]
        },
        {
          "output_type": "stream",
          "name": "stderr",
          "text": [
            "/usr/local/lib/python3.11/dist-packages/sklearn/utils/validation.py:2739: UserWarning: X does not have valid feature names, but NearestNeighbors was fitted with feature names\n",
            "  warnings.warn(\n",
            "/usr/local/lib/python3.11/dist-packages/sklearn/utils/validation.py:2739: UserWarning: X does not have valid feature names, but NearestNeighbors was fitted with feature names\n",
            "  warnings.warn(\n",
            "/usr/local/lib/python3.11/dist-packages/sklearn/utils/validation.py:2739: UserWarning: X does not have valid feature names, but NearestNeighbors was fitted with feature names\n",
            "  warnings.warn(\n",
            "/usr/local/lib/python3.11/dist-packages/sklearn/utils/validation.py:2739: UserWarning: X does not have valid feature names, but NearestNeighbors was fitted with feature names\n",
            "  warnings.warn(\n",
            "/usr/local/lib/python3.11/dist-packages/sklearn/utils/validation.py:2739: UserWarning: X does not have valid feature names, but NearestNeighbors was fitted with feature names\n",
            "  warnings.warn(\n",
            "/usr/local/lib/python3.11/dist-packages/sklearn/utils/validation.py:2739: UserWarning: X does not have valid feature names, but NearestNeighbors was fitted with feature names\n",
            "  warnings.warn(\n",
            "/usr/local/lib/python3.11/dist-packages/sklearn/utils/validation.py:2739: UserWarning: X does not have valid feature names, but NearestNeighbors was fitted with feature names\n",
            "  warnings.warn(\n",
            "/usr/local/lib/python3.11/dist-packages/sklearn/utils/validation.py:2739: UserWarning: X does not have valid feature names, but NearestNeighbors was fitted with feature names\n",
            "  warnings.warn(\n",
            "/usr/local/lib/python3.11/dist-packages/sklearn/utils/validation.py:2739: UserWarning: X does not have valid feature names, but NearestNeighbors was fitted with feature names\n",
            "  warnings.warn(\n",
            "/usr/local/lib/python3.11/dist-packages/sklearn/utils/validation.py:2739: UserWarning: X does not have valid feature names, but NearestNeighbors was fitted with feature names\n",
            "  warnings.warn(\n",
            "/usr/local/lib/python3.11/dist-packages/sklearn/utils/validation.py:2739: UserWarning: X does not have valid feature names, but NearestNeighbors was fitted with feature names\n",
            "  warnings.warn(\n",
            "/usr/local/lib/python3.11/dist-packages/sklearn/utils/validation.py:2739: UserWarning: X does not have valid feature names, but NearestNeighbors was fitted with feature names\n",
            "  warnings.warn(\n",
            "/usr/local/lib/python3.11/dist-packages/sklearn/utils/validation.py:2739: UserWarning: X does not have valid feature names, but NearestNeighbors was fitted with feature names\n",
            "  warnings.warn(\n",
            "/usr/local/lib/python3.11/dist-packages/sklearn/utils/validation.py:2739: UserWarning: X does not have valid feature names, but NearestNeighbors was fitted with feature names\n",
            "  warnings.warn(\n",
            "/usr/local/lib/python3.11/dist-packages/sklearn/utils/validation.py:2739: UserWarning: X does not have valid feature names, but NearestNeighbors was fitted with feature names\n",
            "  warnings.warn(\n",
            "/usr/local/lib/python3.11/dist-packages/sklearn/utils/validation.py:2739: UserWarning: X does not have valid feature names, but NearestNeighbors was fitted with feature names\n",
            "  warnings.warn(\n",
            "/usr/local/lib/python3.11/dist-packages/sklearn/utils/validation.py:2739: UserWarning: X does not have valid feature names, but NearestNeighbors was fitted with feature names\n",
            "  warnings.warn(\n",
            "/usr/local/lib/python3.11/dist-packages/sklearn/utils/validation.py:2739: UserWarning: X does not have valid feature names, but NearestNeighbors was fitted with feature names\n",
            "  warnings.warn(\n",
            "/usr/local/lib/python3.11/dist-packages/sklearn/utils/validation.py:2739: UserWarning: X does not have valid feature names, but NearestNeighbors was fitted with feature names\n",
            "  warnings.warn(\n",
            "/usr/local/lib/python3.11/dist-packages/sklearn/utils/validation.py:2739: UserWarning: X does not have valid feature names, but NearestNeighbors was fitted with feature names\n",
            "  warnings.warn(\n"
          ]
        }
      ],
      "source": [
        "from sklearn.neighbors import NearestNeighbors\n",
        "import pandas as pd\n",
        "\n",
        "# Load datasets\n",
        "customers = pd.read_csv('https://drive.google.com/uc?export=download&id=1bu_--mo79VdUG9oin4ybfFGRUSXAe-WE')\n",
        "transactions = pd.read_csv('https://drive.google.com/uc?export=download&id=1saEqdbBB-vuk2hxoAf4TzDEsykdKlzbF')\n",
        "\n",
        "# Feature engineering\n",
        "customer_features = (\n",
        "    transactions.groupby('CustomerID')\n",
        "    .agg({'TotalValue': 'sum', 'TransactionID': 'count'})\n",
        "    .rename(columns={'TotalValue': 'TotalSpent', 'TransactionID': 'NumTransactions'})\n",
        ")\n",
        "\n",
        "# Merge with customer data\n",
        "customer_data = customers.set_index('CustomerID').join(customer_features).fillna(0)\n",
        "\n",
        "# Select only numeric features for normalization\n",
        "numeric_features = ['TotalSpent', 'NumTransactions']\n",
        "customer_data_normalized = (customer_data[numeric_features] - customer_data[numeric_features].mean()) / customer_data[numeric_features].std()\n",
        "\n",
        "# Build k-NN model\n",
        "model_knn = NearestNeighbors(metric='cosine', algorithm='brute')\n",
        "model_knn.fit(customer_data_normalized)\n",
        "\n",
        "# Find lookalikes for the first 20 customers\n",
        "lookalike_results = {}\n",
        "for cust_id in customer_data_normalized.index[:20]:\n",
        "    # Ensure the customer ID exists in the normalized data\n",
        "    if cust_id in customer_data_normalized.index:\n",
        "        distances, indices = model_knn.kneighbors(customer_data_normalized.loc[cust_id].values.reshape(1, -1), n_neighbors=4)\n",
        "        similar_customers = [(customer_data_normalized.index[indices[0][i]], distances[0][i]) for i in range(1, 4)]\n",
        "        lookalike_results[cust_id] = similar_customers\n",
        "\n",
        "# Save results to CSV\n",
        "lookalike_df = pd.DataFrame([(k, [f\"{c[0]}:{c[1]}\" for c in v]) for k, v in lookalike_results.items()], columns=['CustomerID', 'Lookalikes'])\n",
        "lookalike_df.to_csv('D Veera Harsha Vardhan Reddy_Lookalike.csv', index=False)\n",
        "\n",
        "# Print the resulting DataFrame to verify\n",
        "print(lookalike_df.head())\n",
        "\n"
      ]
    },
    {
      "cell_type": "markdown",
      "source": [
        "**Interpretation**\n",
        "\n",
        "**Highly Similar Customers :** When the similarity score is **0.0** or very close to it, it suggests that these customers share very similar characteristics or behaviors, such as similar purchase patterns, spending amounts, etc.\n",
        "\n",
        "**Less Similar Customers :** As the similarity score increases, the level of similarity decreases. For instance, a score like **0.05131820830206402** indicates less similarity compared to a score of **0.0001151047563676677.**"
      ],
      "metadata": {
        "id": "4Mb2_Xm-c5Zd"
      }
    },
    {
      "cell_type": "code",
      "source": [],
      "metadata": {
        "id": "cl-6hrwcXqAn"
      },
      "execution_count": null,
      "outputs": []
    },
    {
      "cell_type": "code",
      "source": [],
      "metadata": {
        "id": "6OihcLEsnRdO"
      },
      "execution_count": null,
      "outputs": []
    }
  ]
}